{
 "cells": [
  {
   "cell_type": "markdown",
   "id": "be86b770",
   "metadata": {},
   "source": [
    "# Python Assignment - II"
   ]
  },
  {
   "cell_type": "markdown",
   "id": "a40208b8",
   "metadata": {},
   "source": [
    "### 1.What are the two values of the Boolean data type? How do you write them?"
   ]
  },
  {
   "cell_type": "markdown",
   "id": "b224698d",
   "metadata": {},
   "source": [
    "The two values of Boolean data type are True and False. They can be considered as a special version of 1 and 0 respectively. Their first letter must be capital when using it in a code. An example is given below"
   ]
  },
  {
   "cell_type": "code",
   "execution_count": 1,
   "id": "d84a309a",
   "metadata": {},
   "outputs": [
    {
     "name": "stdout",
     "output_type": "stream",
     "text": [
      "True\n",
      "False\n"
     ]
    }
   ],
   "source": [
    "a = True\n",
    "z = False\n",
    "print(a)\n",
    "print(z)"
   ]
  },
  {
   "cell_type": "markdown",
   "id": "4b69fdcc",
   "metadata": {},
   "source": [
    "### 2. What are the three different types of Boolean operators?"
   ]
  },
  {
   "cell_type": "markdown",
   "id": "7b79f943",
   "metadata": {},
   "source": [
    "The three different type of Boolean operators in python are AND,OR and NOT."
   ]
  },
  {
   "cell_type": "markdown",
   "id": "0e80068f",
   "metadata": {},
   "source": [
    "### 3. Make a list of each Boolean operator&#39;s truth tables (i.e. every possible combination of Boolean values for the operator and what it evaluate )."
   ]
  },
  {
   "cell_type": "markdown",
   "id": "3ebbad1a",
   "metadata": {},
   "source": [
    "The list of each Boolean operator is given below:\n",
    "\n",
    "True and True is True.\n",
    "\n",
    "True and False is False.\n",
    "\n",
    "False and True is False.\n",
    "\n",
    "False and False is False.\n",
    "\n",
    "True or True is True.\n",
    "\n",
    "True or False is True.\n",
    "\n",
    "False or True is True.\n",
    "\n",
    "False or False is False.\n",
    "\n",
    "not True is False.\n",
    "\n",
    "not False is True.\n",
    "It is just like the logic table of AND and OR for a logic gate. True can be considered as 1 and False as 0"
   ]
  },
  {
   "cell_type": "markdown",
   "id": "bdff4a80",
   "metadata": {},
   "source": [
    "### 4. What are the values of the following expressions?"
   ]
  },
  {
   "cell_type": "markdown",
   "id": "0ec27d93",
   "metadata": {},
   "source": [
    "(5>4) and (3==5) evaluates to False as The first expression evaluates to true and second evaluates to false and the evaluation of True and False is False.\n",
    "not(5>4) evaluates to False as 5 is not greater than 4\n",
    "(5>4) or (3==5) evaluates to True as or operator only needs one condition to be true in the expression to be True which is the case for 5>4.\n",
    "(True and True) and (True == False) evaluates to False.\n",
    "(not False) or (not True) evaluates to True\n"
   ]
  },
  {
   "cell_type": "markdown",
   "id": "a74180d9",
   "metadata": {},
   "source": [
    "### 5. What are the six comparison operators?"
   ]
  },
  {
   "cell_type": "markdown",
   "id": "69b937d3",
   "metadata": {},
   "source": [
    "==, !=, <, >, <=, and >= are the six comparision operators."
   ]
  },
  {
   "cell_type": "markdown",
   "id": "8d85c1ff",
   "metadata": {},
   "source": [
    "### 6. How do you tell the difference between the equal to and assignment operators?Describe a condition and when you would use one."
   ]
  },
  {
   "cell_type": "markdown",
   "id": "649c6a6f",
   "metadata": {},
   "source": [
    "The == operator is used for comparision of the two values and evaluating to boolean value such as True or False wheras = is an assignment operator which assigns the given value to a variable"
   ]
  },
  {
   "cell_type": "code",
   "execution_count": 3,
   "id": "58ac8ba9",
   "metadata": {},
   "outputs": [
    {
     "name": "stdout",
     "output_type": "stream",
     "text": [
      "False\n",
      "5\n"
     ]
    }
   ],
   "source": [
    "#== TO OPERATOR example\n",
    "if (10>11):\n",
    "    print(\"True\")\n",
    "else:\n",
    "    print(\"False\")\n",
    "# = assignment operator example    \n",
    "x = 5\n",
    "print(x)"
   ]
  },
  {
   "cell_type": "markdown",
   "id": "c147a596",
   "metadata": {},
   "source": [
    "### 7. Identify the three blocks in this code:"
   ]
  },
  {
   "cell_type": "code",
   "execution_count": 4,
   "id": "6195b196",
   "metadata": {},
   "outputs": [
    {
     "name": "stdout",
     "output_type": "stream",
     "text": [
      "ham\n",
      "spam\n",
      "spam\n"
     ]
    }
   ],
   "source": [
    "spam = 0\n",
    "if spam == 10:\n",
    "    print('eggs') #Block I\n",
    "if spam > 5:\n",
    "    print('bacon') #Block II\n",
    "else:\n",
    "    print('ham') #Block II\n",
    "    print('spam')\n",
    "    print('spam')"
   ]
  },
  {
   "cell_type": "markdown",
   "id": "46ba3b05",
   "metadata": {},
   "source": [
    "### 8. Write code that prints Hello if 1 is stored in spam, prints Howdy if 2 is stored in spam, and prints Greetings! if anything else is stored in spam."
   ]
  },
  {
   "cell_type": "code",
   "execution_count": 5,
   "id": "51a8d1ac",
   "metadata": {},
   "outputs": [
    {
     "name": "stdout",
     "output_type": "stream",
     "text": [
      "Input a number: 1\n",
      "Hello\n"
     ]
    }
   ],
   "source": [
    "spam = int(input(\"Input a number: \"))\n",
    "if spam == 1:\n",
    "    print(\"Hello\")\n",
    "elif spam == 2:\n",
    "    print(\"Howdy\")\n",
    "else:\n",
    "    print(\"Greetings!\")"
   ]
  },
  {
   "cell_type": "code",
   "execution_count": 6,
   "id": "9149eb14",
   "metadata": {},
   "outputs": [
    {
     "name": "stdout",
     "output_type": "stream",
     "text": [
      "Input a number: 2\n",
      "Howdy\n"
     ]
    }
   ],
   "source": [
    "spam = int(input(\"Input a number: \"))\n",
    "if spam == 1:\n",
    "    print(\"Hello\")\n",
    "elif spam == 2:\n",
    "    print(\"Howdy\")\n",
    "else:\n",
    "    print(\"Greetings!\")"
   ]
  },
  {
   "cell_type": "markdown",
   "id": "ec743aa2",
   "metadata": {},
   "source": [
    "### 9. If your programme is stuck in an endless loop, what keys you’ll press?"
   ]
  },
  {
   "cell_type": "markdown",
   "id": "a5a75cdf",
   "metadata": {},
   "source": [
    "By pressing Ctrl+C we can escape the programme being stuck in endless loop."
   ]
  },
  {
   "cell_type": "markdown",
   "id": "4c278e08",
   "metadata": {},
   "source": [
    "### 10. How can you tell the difference between break and continue?"
   ]
  },
  {
   "cell_type": "markdown",
   "id": "a3974f6c",
   "metadata": {},
   "source": [
    "The break statement moves the execution out of the loop when a condition is satisfied. See the example below"
   ]
  },
  {
   "cell_type": "code",
   "execution_count": 7,
   "id": "c59899c4",
   "metadata": {},
   "outputs": [
    {
     "name": "stdout",
     "output_type": "stream",
     "text": [
      "0\n",
      "1\n",
      "2\n"
     ]
    }
   ],
   "source": [
    "for i in range(5):\n",
    "    if (i==3):\n",
    "        break\n",
    "    print(i)"
   ]
  },
  {
   "cell_type": "markdown",
   "id": "3c90ff19",
   "metadata": {},
   "source": [
    "In case of Continue statement if a condition is met it will move the execution to start of the loop. Lets see with the same example"
   ]
  },
  {
   "cell_type": "code",
   "execution_count": 8,
   "id": "7f914bfa",
   "metadata": {},
   "outputs": [
    {
     "name": "stdout",
     "output_type": "stream",
     "text": [
      "0\n",
      "1\n",
      "2\n",
      "4\n"
     ]
    }
   ],
   "source": [
    "for i in range(5):\n",
    "    if (i==3):\n",
    "        continue\n",
    "    print(i)"
   ]
  },
  {
   "cell_type": "markdown",
   "id": "af2c1a18",
   "metadata": {},
   "source": [
    "### 11. In a for loop, what is the difference between range(10), range(0, 10), and range(0, 10, 1)?"
   ]
  },
  {
   "cell_type": "code",
   "execution_count": 9,
   "id": "48fc7c62",
   "metadata": {},
   "outputs": [
    {
     "name": "stdout",
     "output_type": "stream",
     "text": [
      "0\n",
      "1\n",
      "2\n",
      "3\n",
      "4\n",
      "5\n",
      "6\n",
      "7\n",
      "8\n",
      "9\n",
      "The loop breaks here -----\n",
      "0\n",
      "1\n",
      "2\n",
      "3\n",
      "4\n",
      "5\n",
      "6\n",
      "7\n",
      "8\n",
      "9\n",
      "The loop breaks here -----\n",
      "0\n",
      "1\n",
      "2\n",
      "3\n",
      "4\n",
      "5\n",
      "6\n",
      "7\n",
      "8\n",
      "9\n"
     ]
    }
   ],
   "source": [
    "for i in range(10):\n",
    "    print(i)\n",
    "print(\"The loop breaks here -----\") \n",
    "for i in range(0,10):\n",
    "    print(i)\n",
    "print(\"The loop breaks here -----\")\n",
    "for i in range(0,10,1):\n",
    "    print(i)"
   ]
  },
  {
   "cell_type": "markdown",
   "id": "11996741",
   "metadata": {},
   "source": [
    "We can see from the above result they give the same output. rangg(10) specifies all number from 0 to 9 excluding 10 whereas range(0,10) specifies that the loop to start from 0 and end before 10. In case of range(0,10,1) it specifies the value to start from 0 and increment by 1 each time until it reaches 10 and 10 should be excluded."
   ]
  },
  {
   "cell_type": "markdown",
   "id": "9b90a91d",
   "metadata": {},
   "source": [
    "### 12. Write a short program that prints the numbers 1 to 10 using a for loop. Then write an equivalent program that prints the numbers 1 to 10 using a while loop."
   ]
  },
  {
   "cell_type": "code",
   "execution_count": 10,
   "id": "7e565991",
   "metadata": {},
   "outputs": [
    {
     "name": "stdout",
     "output_type": "stream",
     "text": [
      "For Loop\n",
      "1\n",
      "2\n",
      "3\n",
      "4\n",
      "5\n",
      "6\n",
      "7\n",
      "8\n",
      "9\n",
      "10\n",
      "While Loop\n",
      "1\n",
      "2\n",
      "3\n",
      "4\n",
      "5\n",
      "6\n",
      "7\n",
      "8\n",
      "9\n",
      "10\n"
     ]
    }
   ],
   "source": [
    "#For Loop\n",
    "print(\"For Loop\")\n",
    "for i in range(1,11):\n",
    "    print(i)\n",
    "#While Loop\n",
    "print(\"While Loop\")\n",
    "a =1\n",
    "while a <= 10:\n",
    "    print(a)\n",
    "    a+=1"
   ]
  },
  {
   "cell_type": "markdown",
   "id": "1399a3ec",
   "metadata": {},
   "source": [
    "### 13. If you had a function named bacon() inside a module named spam, how would you call it after importing spam?"
   ]
  },
  {
   "cell_type": "markdown",
   "id": "bb247387",
   "metadata": {},
   "source": [
    "The function can be called by using spam.bacon()."
   ]
  }
 ],
 "metadata": {
  "kernelspec": {
   "display_name": "Python 3",
   "language": "python",
   "name": "python3"
  },
  "language_info": {
   "codemirror_mode": {
    "name": "ipython",
    "version": 3
   },
   "file_extension": ".py",
   "mimetype": "text/x-python",
   "name": "python",
   "nbconvert_exporter": "python",
   "pygments_lexer": "ipython3",
   "version": "3.8.8"
  }
 },
 "nbformat": 4,
 "nbformat_minor": 5
}
