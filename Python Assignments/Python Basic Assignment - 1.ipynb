{
 "cells": [
  {
   "cell_type": "markdown",
   "id": "3bdd6b99",
   "metadata": {},
   "source": [
    "# Python Basic - Assignment_1"
   ]
  },
  {
   "cell_type": "markdown",
   "id": "fbe0075d",
   "metadata": {},
   "source": [
    "## 1.In the below elements which of them are values or an expression?"
   ]
  },
  {
   "cell_type": "markdown",
   "id": "28d930a3",
   "metadata": {},
   "source": [
    "A)\n",
    "\n",
    "\n",
    "<ul>\n",
    "    <li>'*' is a mathematical operator,'hello' is a string</li> \n",
    "    <li> -87.8 is a float value</li> \n",
    "    <li> '-' is a mathematical operator used for subtraction</li> \n",
    "    <li>'/' is a mathematical operator used for division of numbers</li>\n",
    "    <li>'+' is a mathematical operator it is used for adding numbers and also used in string concatenation</li> \n",
    "    <li>6 is integer value</li>\n",
    "</ul>\n"
   ]
  },
  {
   "cell_type": "markdown",
   "id": "0bb8069d",
   "metadata": {},
   "source": [
    "## 2. What is the difference between string and variable?"
   ]
  },
  {
   "cell_type": "markdown",
   "id": "f9bdb8de",
   "metadata": {},
   "source": [
    "A) Variables are used for storing data or value in them. Variable can store values of different data types such as integer, string and float. String on other hand is a data type. Difference between string and variable can be shown by an example:\n",
    "x = 5, here x is a variable. x can also be string such as x = 'hello' and x can also be floating data type, x= 3.14."
   ]
  },
  {
   "cell_type": "markdown",
   "id": "39f5e5d1",
   "metadata": {},
   "source": [
    "## 3. Describe three different data types."
   ]
  },
  {
   "cell_type": "markdown",
   "id": "b693c403",
   "metadata": {},
   "source": [
    "A)Three main different data types in Python are numeric,string and sequence:\n",
    "<ul>\n",
    "    <li>Integer: Integer data type is any number which is positive, negative but without any decimal value in it. Ex: x = 10.                   int() function is used to convert variable to integer data type. It is part of numeric data type</li>\n",
    "    <li>Float: Float data type is any number with decimals. Ex: x = 10.4. float() function is used to convert a variable to                    float. It is part of numeric data type</li>\n",
    "    <li>String: String are nothing but arrays of bytes representing unicode characters. Ex: x = 'hello' is an example of string.                 str() function is used to convert variable enclosed in it to string data type</li>\n",
    "    <li>Sequence data type consist of list, tuple and range</li>\n",
    "</ul>"
   ]
  },
  {
   "cell_type": "markdown",
   "id": "94879699",
   "metadata": {},
   "source": [
    "## 4. What is an expression made up of? What do all expressions do?"
   ]
  },
  {
   "cell_type": "markdown",
   "id": "9b9bcd69",
   "metadata": {},
   "source": [
    "A)\n",
    "Expressions are made up of operands and operators. Operands are usually variables and expression is evaluated to something. An example. Example output to a certain value.\n"
   ]
  },
  {
   "cell_type": "markdown",
   "id": "2539bb30",
   "metadata": {},
   "source": [
    "## 5. This assignment statements, like spam = 10. What is the difference between an expression and a statement?"
   ]
  },
  {
   "cell_type": "markdown",
   "id": "605b1443",
   "metadata": {},
   "source": [
    "When we enter the assignment statement spam = 10. It wont return any value only prompt is returned that is they are simply executed. Expression would be print(spam) which would then return the value 10. This is refered to as expression."
   ]
  },
  {
   "cell_type": "markdown",
   "id": "c6b50413",
   "metadata": {},
   "source": [
    "## 6. After running the following code, what does the variable bacon contain? bacon = 22, bacon + 1"
   ]
  },
  {
   "cell_type": "markdown",
   "id": "f835e66c",
   "metadata": {},
   "source": [
    "When we run the follwoing code:\n",
    "    bacon = 22\n",
    "    bacon + 1\n",
    "    would return the asnwer as 23"
   ]
  },
  {
   "cell_type": "code",
   "execution_count": 1,
   "id": "79928978",
   "metadata": {},
   "outputs": [
    {
     "data": {
      "text/plain": [
       "23"
      ]
     },
     "execution_count": 1,
     "metadata": {},
     "output_type": "execute_result"
    }
   ],
   "source": [
    "bacon = 22\n",
    "bacon+1"
   ]
  },
  {
   "cell_type": "markdown",
   "id": "a9425cc3",
   "metadata": {},
   "source": [
    "## 7. What should the values of the following two terms be?\n"
   ]
  },
  {
   "cell_type": "code",
   "execution_count": 2,
   "id": "94fafec2",
   "metadata": {},
   "outputs": [
    {
     "data": {
      "text/plain": [
       "'spamspamspam'"
      ]
     },
     "execution_count": 2,
     "metadata": {},
     "output_type": "execute_result"
    }
   ],
   "source": [
    "'spam' + 'spamspam'"
   ]
  },
  {
   "cell_type": "code",
   "execution_count": 3,
   "id": "be6b775f",
   "metadata": {},
   "outputs": [
    {
     "data": {
      "text/plain": [
       "'spamspamspam'"
      ]
     },
     "execution_count": 3,
     "metadata": {},
     "output_type": "execute_result"
    }
   ],
   "source": [
    "'spam'*3"
   ]
  },
  {
   "cell_type": "markdown",
   "id": "27ac06d5",
   "metadata": {},
   "source": [
    "Both the values equate to same solution which is 'spamspamspam'. But the first expression is an example of string concatenation and the second one multiplies the string b itself 3 times and gets the same output."
   ]
  },
  {
   "cell_type": "markdown",
   "id": "e6d6b132",
   "metadata": {},
   "source": [
    "## 8. Why is eggs a valid variable name while 100 is invalid?"
   ]
  },
  {
   "cell_type": "markdown",
   "id": "9a5aafdb",
   "metadata": {},
   "source": [
    "Eggs is a valid name and 100 is not because variable name cannot start with a number."
   ]
  },
  {
   "cell_type": "markdown",
   "id": "36c0fb79",
   "metadata": {},
   "source": [
    "## 9. What three functions can be used to get the integer, floating-point number, or string version of a value?"
   ]
  },
  {
   "cell_type": "markdown",
   "id": "755be1f8",
   "metadata": {},
   "source": [
    "The three functions that can be used to get integer, float and string value are: int(), float() and str()."
   ]
  },
  {
   "cell_type": "markdown",
   "id": "d0c88689",
   "metadata": {},
   "source": [
    "## 10. Why does this expression cause an error? How can you fix it? I have eaten + 99 + burritos."
   ]
  },
  {
   "cell_type": "markdown",
   "id": "87c551ba",
   "metadata": {},
   "source": [
    "The reason why their is error in expression is due to 99 being an integer with which strings are getting concatenated. In order to correct the error 99 must be converted to string value by using string function. The correct expression would then be:\n",
    "'I have eaten' + str(99) + 'burritos'"
   ]
  }
 ],
 "metadata": {
  "kernelspec": {
   "display_name": "Python 3",
   "language": "python",
   "name": "python3"
  },
  "language_info": {
   "codemirror_mode": {
    "name": "ipython",
    "version": 3
   },
   "file_extension": ".py",
   "mimetype": "text/x-python",
   "name": "python",
   "nbconvert_exporter": "python",
   "pygments_lexer": "ipython3",
   "version": "3.8.8"
  }
 },
 "nbformat": 4,
 "nbformat_minor": 5
}
